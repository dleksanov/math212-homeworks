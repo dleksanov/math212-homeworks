{
 "cells": [
  {
   "cell_type": "code",
   "execution_count": 35,
   "id": "c3ce51ee",
   "metadata": {},
   "outputs": [
    {
     "ename": "LoadError",
     "evalue": "UndefVarError: IntegerArray not defined",
     "output_type": "error",
     "traceback": [
      "UndefVarError: IntegerArray not defined",
      "",
      "Stacktrace:",
      " [1] top-level scope",
      "   @ In[35]:20",
      " [2] eval",
      "   @ ./boot.jl:360 [inlined]",
      " [3] include_string(mapexpr::typeof(REPL.softscope), mod::Module, code::String, filename::String)",
      "   @ Base ./loading.jl:1116"
     ]
    }
   ],
   "source": [
    "function supnorm(u) \n",
    "    s = 0 \n",
    "    for entry in u \n",
    "        s = max(abs(entry),s) \n",
    "    end \n",
    "    return s \n",
    "end \n",
    "\n",
    "function inner_product(u::Array{<:Real,1}, v::Array{<:Real,1}) \n",
    "    s = 0 \n",
    "    n = size(u)[1] \n",
    "    for i in 1:n\n",
    "        s += u[i] * v[i] \n",
    "    end \n",
    "    return s\n",
    "end"
   ]
  },
  {
   "cell_type": "code",
   "execution_count": null,
   "id": "1d21dd38",
   "metadata": {},
   "outputs": [],
   "source": [
    "function power_method(A::Array{<:Real,2}, x0::Array{<:Real,1})\n",
    "    y = A*x0\n",
    "    x = y / supnorm(y)\n",
    "    return y\n",
    "end\n",
    "\n",
    "function rayleigh(A::Array{<:Real,2}, x0::Array{<:Real,1})\n",
    "    lambda = inner_product(x0, A*x0) / inner_product(x0, x0)\n",
    "    return lambda\n",
    "end"
   ]
  },
  {
   "cell_type": "code",
   "execution_count": 103,
   "id": "18787de9",
   "metadata": {},
   "outputs": [
    {
     "data": {
      "text/plain": [
       "power_method_iterate (generic function with 3 methods)"
      ]
     },
     "execution_count": 103,
     "metadata": {},
     "output_type": "execute_result"
    }
   ],
   "source": [
    "function power_method_iterate(A::Array{<:Real,2}, x::Array{<:Real,1}, iterations::Int)\n",
    "    for i in 1:iterations\n",
    "        x = power_method(A, x)\n",
    "    end\n",
    "    lambda = rayleigh(A, x)\n",
    "    return x, lambda\n",
    "end "
   ]
  },
  {
   "cell_type": "code",
   "execution_count": 104,
   "id": "a8aa1def",
   "metadata": {},
   "outputs": [
    {
     "data": {
      "text/plain": [
       "4×4 Matrix{Float64}:\n",
       " 0.0       0.0  1.0  0.5\n",
       " 0.333333  0.0  0.0  0.0\n",
       " 0.333333  0.5  0.0  0.5\n",
       " 0.333333  0.5  0.0  0.0"
      ]
     },
     "execution_count": 104,
     "metadata": {},
     "output_type": "execute_result"
    }
   ],
   "source": [
    "A = [0 0 1 1/2; 1/3 0 0 0; 1/3 1/2 0 1/2; 1/3 1/2 0 0]"
   ]
  },
  {
   "cell_type": "code",
   "execution_count": 105,
   "id": "9c861a22",
   "metadata": {},
   "outputs": [
    {
     "data": {
      "text/plain": [
       "4-element Vector{Int64}:\n",
       " 1\n",
       " 0\n",
       " 0\n",
       " 0"
      ]
     },
     "execution_count": 105,
     "metadata": {},
     "output_type": "execute_result"
    }
   ],
   "source": [
    "x0 = ones(4) / 4\n",
    "x0 = [1; 0; 0; 0]"
   ]
  },
  {
   "cell_type": "code",
   "execution_count": 106,
   "id": "4459b438",
   "metadata": {},
   "outputs": [
    {
     "data": {
      "text/plain": [
       "4-element Vector{Float64}:\n",
       " 0.3870967741935477\n",
       " 0.1290322580645159\n",
       " 0.2903225806451608\n",
       " 0.19354838709677386"
      ]
     },
     "execution_count": 106,
     "metadata": {},
     "output_type": "execute_result"
    }
   ],
   "source": [
    "power_method_iterate(A, x0, 100)[1]"
   ]
  },
  {
   "cell_type": "code",
   "execution_count": 107,
   "id": "2c1b87a1",
   "metadata": {},
   "outputs": [
    {
     "data": {
      "text/plain": [
       "1.0"
      ]
     },
     "execution_count": 107,
     "metadata": {},
     "output_type": "execute_result"
    }
   ],
   "source": [
    "power_method_iterate(A, x0, 100)[2]"
   ]
  },
  {
   "cell_type": "code",
   "execution_count": 38,
   "id": "e3880f2c",
   "metadata": {},
   "outputs": [
    {
     "data": {
      "text/plain": [
       "4-element Vector{Int64}:\n",
       " 1\n",
       " 3\n",
       " 4\n",
       " 2"
      ]
     },
     "execution_count": 38,
     "metadata": {},
     "output_type": "execute_result"
    }
   ],
   "source": [
    "sortperm(power_method_iterate(A, x0, 100)[1], rev=true)"
   ]
  },
  {
   "cell_type": "code",
   "execution_count": 143,
   "id": "975ed221",
   "metadata": {},
   "outputs": [
    {
     "name": "stdout",
     "output_type": "stream",
     "text": [
      "[0.0 0.0 1.0 0.5; 0.3333333333333333 0.0 0.0 0.0; 0.3333333333333333 0.5 0.0 0.5; 0.3333333333333333 0.5 0.0 0.0]\n",
      "[1.0 0.3333333333333333 0.16666666666666666; 0.0 0.3333333333333333 0.16666666666666666; 0.0 0.3333333333333333 0.6666666666666666]\n",
      "Column 1: 1.0\n",
      "Column 2: 1.0\n",
      "Column 3: 1.0\n",
      "Column 4: 1.0\n",
      "Column 1: 1.0\n",
      "Column 2: 1.0\n",
      "Column 3: 1.0\n",
      "[0.0375 0.0375 0.8875 0.46249999999999997; 0.3208333333333333 0.0375 0.0375 0.0375; 0.3208333333333333 0.46249999999999997 0.0375 0.46249999999999997; 0.3208333333333333 0.46249999999999997 0.0375 0.0375]\n",
      "[0.9 0.3333333333333333 0.19166666666666665; 0.049999999999999996 0.3333333333333333 0.19166666666666665; 0.049999999999999996 0.3333333333333333 0.6166666666666667]\n",
      "Column 1: 0.9999999999999999\n",
      "Column 2: 1.0\n",
      "Column 3: 0.9999999999999999\n",
      "Column 4: 0.9999999999999999\n",
      "Column 1: 1.0\n",
      "Column 2: 1.0\n",
      "Column 3: 1.0\n",
      "[0.0 0.0 1.0 0.5; 0.3333333333333333 0.0 0.0 0.0; 0.3333333333333333 0.5 0.0 0.5; 0.3333333333333333 0.5 0.0 0.0]\n",
      "[1.0 0.0 0.0; 0.0 0.0 0.0; 0.0 0.0 0.5]\n"
     ]
    },
    {
     "data": {
      "text/plain": [
       "page_rank (generic function with 6 methods)"
      ]
     },
     "execution_count": 143,
     "metadata": {},
     "output_type": "execute_result"
    }
   ],
   "source": [
    "function check_unit_columns(A::Array{<:Real,2})\n",
    "    n = size(A)[1]\n",
    "    \n",
    "    for j in 1:n\n",
    "        s = 0\n",
    "        for i in 1:n\n",
    "            s += A[i, j]\n",
    "        end\n",
    "        println(\"Column \", j, \": \", s)\n",
    "    end\n",
    "end\n",
    "\n",
    "function fill_columns(A::Array{<:Real,2})\n",
    "    n = size(A)[1]\n",
    "    \n",
    "    B = zeros(size(A)[1], size(A)[2])\n",
    "    \n",
    "    for j in 1:n\n",
    "        s = 0\n",
    "        for i in 1:n\n",
    "            s += A[i, j]\n",
    "            B[i, j] += A[i, j]\n",
    "        end\n",
    "        if s < 1\n",
    "            to_add = (1 - s) / n\n",
    "            for i in 1:n\n",
    "                B[i, j] += to_add\n",
    "            end\n",
    "        end\n",
    "    end\n",
    "    \n",
    "    return B\n",
    "end\n",
    "\n",
    "B = [1. 0 0; 0 0 0; 0 0 0.5]\n",
    "\n",
    "println(fill_columns(A))\n",
    "println(fill_columns(B))\n",
    "\n",
    "check_unit_columns(fill_columns(A))\n",
    "check_unit_columns(fill_columns(B))\n",
    "\n",
    "function teleport(A::Array{<:Real,2}, damp::Real=0.15)\n",
    "    A = fill_columns(A)\n",
    "    return (1 - damp)*A + damp*(ones(size(A)[1], size(A)[2]) / size(A)[1])\n",
    "end\n",
    "\n",
    "println(teleport(A))\n",
    "println(teleport(B))\n",
    "\n",
    "check_unit_columns(teleport(A))\n",
    "check_unit_columns(teleport(B))\n",
    "\n",
    "println(A)\n",
    "println(B)\n",
    "\n",
    "function page_rank(A::Array{<:Real,2}, x::Array{<:Real,1}=[NaN], iterations::Int=100, page_names=[nothing], \n",
    "        damp::Real=NaN, fill_cols::Bool=false)\n",
    "    println(A)\n",
    "    \n",
    "    if !isnan(damp)\n",
    "        A = teleport(A, damp)\n",
    "    elseif fill_cols\n",
    "        A = fill_columns(A)\n",
    "    end\n",
    "    \n",
    "    println(A)\n",
    "    \n",
    "    if isnan(x[1])\n",
    "        x = ones(size(A)[1]) / size(A)[1]\n",
    "        println(x)\n",
    "    end\n",
    "    \n",
    "    for i in 1:iterations\n",
    "        x = power_method(A, x)\n",
    "    end\n",
    "    lambda = rayleigh(A, x)\n",
    "    \n",
    "    println(\"Largest eigenvalue (should be 1): \", lambda)\n",
    "    println(\"Page rank weight eigenvector: \", x)\n",
    "    if isnothing(page_names[1])\n",
    "        println(\"Pages in order from most to least important: \", sortperm(x, rev=true)) \n",
    "    else \n",
    "        println(\"Pages in order from most to least important: \", page_names[sortperm(x, rev=true)]) \n",
    "    end\n",
    "    \n",
    "    return x, lambda\n",
    "end "
   ]
  },
  {
   "cell_type": "code",
   "execution_count": 144,
   "id": "31ad19ef",
   "metadata": {},
   "outputs": [
    {
     "name": "stdout",
     "output_type": "stream",
     "text": [
      "[0.0 0.0 1.0 0.5; 0.3333333333333333 0.0 0.0 0.0; 0.3333333333333333 0.5 0.0 0.5; 0.3333333333333333 0.5 0.0 0.0]\n",
      "[0.0 0.0 1.0 0.5; 0.3333333333333333 0.0 0.0 0.0; 0.3333333333333333 0.5 0.0 0.5; 0.3333333333333333 0.5 0.0 0.0]\n",
      "Largest eigenvalue (should be 1): 1.0\n",
      "Page rank weight eigenvector: [0.3870967741935477, 0.1290322580645159, 0.2903225806451608, 0.19354838709677386]\n",
      "Pages in order from most to least important: [\"Google\", \"Sony\", \"Jamba Juice\", \"Apple\"]\n"
     ]
    },
    {
     "data": {
      "text/plain": [
       "4-element Vector{Float64}:\n",
       " 0.3870967741935477\n",
       " 0.1290322580645159\n",
       " 0.2903225806451608\n",
       " 0.19354838709677386"
      ]
     },
     "execution_count": 144,
     "metadata": {},
     "output_type": "execute_result"
    }
   ],
   "source": [
    "page_rank(A, x0, 100, [\"Google\" \"Apple\" \"Sony\" \"Jamba Juice\"])[1]"
   ]
  },
  {
   "cell_type": "code",
   "execution_count": 145,
   "id": "f1d9927f",
   "metadata": {},
   "outputs": [
    {
     "name": "stdout",
     "output_type": "stream",
     "text": [
      "[0.0 0.0 1.0 0.5; 0.3333333333333333 0.0 0.0 0.0; 0.3333333333333333 0.5 0.0 0.5; 0.3333333333333333 0.5 0.0 0.0]\n",
      "[0.0 0.0 1.0 0.5; 0.3333333333333333 0.0 0.0 0.0; 0.3333333333333333 0.5 0.0 0.5; 0.3333333333333333 0.5 0.0 0.0]\n",
      "[0.25, 0.25, 0.25, 0.25]\n",
      "Largest eigenvalue (should be 1): 1.0\n",
      "Page rank weight eigenvector: [0.38709677419354754, 0.12903225806451585, 0.29032258064516064, 0.19354838709677377]\n",
      "Pages in order from most to least important: [1, 3, 4, 2]\n"
     ]
    },
    {
     "data": {
      "text/plain": [
       "4-element Vector{Float64}:\n",
       " 0.38709677419354754\n",
       " 0.12903225806451585\n",
       " 0.29032258064516064\n",
       " 0.19354838709677377"
      ]
     },
     "execution_count": 145,
     "metadata": {},
     "output_type": "execute_result"
    }
   ],
   "source": [
    "page_rank(A)[1]"
   ]
  },
  {
   "cell_type": "code",
   "execution_count": 146,
   "id": "5ae3e961",
   "metadata": {},
   "outputs": [
    {
     "name": "stdout",
     "output_type": "stream",
     "text": [
      "[1.0 0.0 0.0; 0.0 0.0 0.0; 0.0 0.0 0.5]\n",
      "[0.9 0.3333333333333333 0.19166666666666665; 0.049999999999999996 0.3333333333333333 0.19166666666666665; 0.049999999999999996 0.3333333333333333 0.6166666666666667]\n",
      "[0.3333333333333333, 0.3333333333333333, 0.3333333333333333]\n",
      "Largest eigenvalue (should be 1): 1.0\n",
      "Page rank weight eigenvector: [0.7087827426810486, 0.10631741140215725, 0.1848998459167952]\n",
      "Pages in order from most to least important: [\"Google\", \"Sony\", \"Apple\"]\n"
     ]
    },
    {
     "data": {
      "text/plain": [
       "3-element Vector{Float64}:\n",
       " 0.7087827426810486\n",
       " 0.10631741140215725\n",
       " 0.1848998459167952"
      ]
     },
     "execution_count": 146,
     "metadata": {},
     "output_type": "execute_result"
    }
   ],
   "source": [
    "page_rank(B, [NaN], 100, [\"Google\" \"Apple\" \"Sony\" \"Jamba Juice\"], 0.15)[1]"
   ]
  },
  {
   "cell_type": "code",
   "execution_count": 147,
   "id": "fc26a194",
   "metadata": {},
   "outputs": [
    {
     "name": "stdout",
     "output_type": "stream",
     "text": [
      "[1.0 0.0 0.0; 0.0 0.0 0.0; 0.0 0.0 0.5]\n",
      "[1.0 0.0 0.0; 0.0 0.0 0.0; 0.0 0.0 0.5]\n",
      "[0.3333333333333333, 0.3333333333333333, 0.3333333333333333]\n",
      "Largest eigenvalue (should be 1): 1.0\n",
      "Page rank weight eigenvector: [0.3333333333333333, 0.0, 2.629536350736706e-31]\n",
      "Pages in order from most to least important: [\"Google\", \"Sony\", \"Apple\"]\n"
     ]
    },
    {
     "data": {
      "text/plain": [
       "3-element Vector{Float64}:\n",
       " 0.3333333333333333\n",
       " 0.0\n",
       " 2.629536350736706e-31"
      ]
     },
     "execution_count": 147,
     "metadata": {},
     "output_type": "execute_result"
    }
   ],
   "source": [
    "page_rank(B, [NaN], 100, [\"Google\" \"Apple\" \"Sony\" \"Jamba Juice\"], NaN)[1]"
   ]
  },
  {
   "cell_type": "code",
   "execution_count": 149,
   "id": "353f885a",
   "metadata": {},
   "outputs": [
    {
     "name": "stdout",
     "output_type": "stream",
     "text": [
      "[0.0 0.0 0.0; 0.0 0.0 0.0; 1.0 1.0 0.0]\n",
      "[0.0 0.0 0.0; 0.0 0.0 0.0; 1.0 1.0 0.0]\n",
      "[0.3333333333333333, 0.3333333333333333, 0.3333333333333333]\n",
      "Largest eigenvalue (should be 1): NaN\n",
      "Page rank weight eigenvector: [0.0, 0.0, 0.0]\n",
      "Pages in order from most to least important: [\"Google\", \"Apple\", \"Sony\"]\n"
     ]
    },
    {
     "data": {
      "text/plain": [
       "3-element Vector{Float64}:\n",
       " 0.0\n",
       " 0.0\n",
       " 0.0"
      ]
     },
     "execution_count": 149,
     "metadata": {},
     "output_type": "execute_result"
    }
   ],
   "source": [
    "C = [0 0 0; 0 0 0; 1. 1. 0]\n",
    "page_rank(C, [NaN], 100, [\"Google\" \"Apple\" \"Sony\" \"Jamba Juice\"], NaN)[1]"
   ]
  },
  {
   "cell_type": "code",
   "execution_count": 150,
   "id": "d0dd3246",
   "metadata": {},
   "outputs": [
    {
     "name": "stdout",
     "output_type": "stream",
     "text": [
      "[0.0 0.0 0.0; 0.0 0.0 0.0; 1.0 1.0 0.0]\n",
      "[0.0 0.0 0.3333333333333333; 0.0 0.0 0.3333333333333333; 1.0 1.0 0.3333333333333333]\n",
      "[0.3333333333333333, 0.3333333333333333, 0.3333333333333333]\n",
      "Largest eigenvalue (should be 1): 1.0\n",
      "Page rank weight eigenvector: [0.19999999999999943, 0.19999999999999943, 0.5999999999999983]\n",
      "Pages in order from most to least important: [\"Sony\", \"Google\", \"Apple\"]\n"
     ]
    },
    {
     "data": {
      "text/plain": [
       "3-element Vector{Float64}:\n",
       " 0.19999999999999943\n",
       " 0.19999999999999943\n",
       " 0.5999999999999983"
      ]
     },
     "execution_count": 150,
     "metadata": {},
     "output_type": "execute_result"
    }
   ],
   "source": [
    "page_rank(C, [NaN], 100, [\"Google\" \"Apple\" \"Sony\" \"Jamba Juice\"], NaN, true)[1]"
   ]
  },
  {
   "cell_type": "code",
   "execution_count": null,
   "id": "bb504723",
   "metadata": {},
   "outputs": [],
   "source": []
  }
 ],
 "metadata": {
  "kernelspec": {
   "display_name": "Julia 1.6.3",
   "language": "julia",
   "name": "julia-1.6"
  },
  "language_info": {
   "file_extension": ".jl",
   "mimetype": "application/julia",
   "name": "julia",
   "version": "1.6.3"
  }
 },
 "nbformat": 4,
 "nbformat_minor": 5
}
